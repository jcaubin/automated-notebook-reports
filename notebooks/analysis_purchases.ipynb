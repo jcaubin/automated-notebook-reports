{
 "cells": [
  {
   "cell_type": "markdown",
   "id": "bbca325f-8e51-467a-9ff3-647c34f517f4",
   "metadata": {},
   "source": [
    "# Report on Supermarket Expenditures\n",
    "\n",
    "This report shows an analysis of the purchases made at the supermarket throughout the year. Three analyses are presented:\n",
    "* **Daily Expenditures and Cumulative Daily Expenditures**: This section performs an analysis of the daily expenses throughout the year together with the cumulative annual expenses, i.e. how much money has been spent to date. \n",
    "* **Expenditure Breakdown by Category and Product**: This section performs an analysis of spending by category and product using a Sunburst chart.\n",
    "* **Expenditure Breakdown by Payment Method**: This section performs an analysis of the payment methods used. \n",
    "\n"
   ]
  },
  {
   "cell_type": "code",
   "execution_count": null,
   "id": "e35df94f-af5b-4c08-9e8d-92b37ca22008",
   "metadata": {
    "execution": {
     "iopub.execute_input": "2025-01-10T12:03:18.713776Z",
     "iopub.status.busy": "2025-01-10T12:03:18.713429Z",
     "iopub.status.idle": "2025-01-10T12:03:19.601902Z",
     "shell.execute_reply": "2025-01-10T12:03:19.601039Z"
    }
   },
   "outputs": [],
   "source": [
    "import pandas as pd\n",
    "import plotly.graph_objects as go\n",
    "import plotly.express as px\n",
    "import os\n",
    "\n",
    "import plotly.io as pio\n",
    "pio.renderers.default='notebook'\n",
    "import plotly.offline as pyo\n",
    "# Set notebook mode to work in offline\n",
    "pyo.init_notebook_mode()"
   ]
  },
  {
   "cell_type": "markdown",
   "id": "d3261016-43b4-4f1a-8156-a2c673c6daba",
   "metadata": {},
   "source": [
    "## Dataset Structure\n",
    "\n",
    "The evaluated dataset contains details of purchases made in a supermarket. The different fields that make up the dataset are as follows:\n",
    "\n",
    "* **Date**: The date the product was purchased in the supermarket. The format is YYYY-MM-DD (e.g., 2024–01–01).\n",
    "* **Product**: Name of the product (e.g. apples, yogurts, or salmon).\n",
    "* **Quantity**: Quantity in units of the product purchased (for example, 2).\n",
    "* **Price per unit**: Price of one unit of the product (e.g. 0.5).\n",
    "* **Total Cost**: Total price of the products purchased, i.e., the quantity multiplied by the product's unit price (e.g. 2 * 0.5 = 1).\n",
    "* **Category**: Category or type of product (e.g. meat or fish).\n",
    "* **Payment Method**: Method of payment with which the purchase was made. Three possible payment methods exist card, cash, or digital wallet."
   ]
  },
  {
   "cell_type": "code",
   "execution_count": null,
   "id": "9c803abe-7288-4fec-ae02-57329bd0e26c",
   "metadata": {
    "execution": {
     "iopub.execute_input": "2025-01-10T12:03:19.627374Z",
     "iopub.status.busy": "2025-01-10T12:03:19.627097Z",
     "iopub.status.idle": "2025-01-10T12:03:19.654655Z",
     "shell.execute_reply": "2025-01-10T12:03:19.653807Z"
    }
   },
   "outputs": [],
   "source": [
    "def load_purchase_data(filename='supermarket_purchases_data.csv'):\n",
    "    \"\"\"\n",
    "    Load the synthetic purchase data from the data folder.\n",
    "\n",
    "    Args:\n",
    "        filename (str): The name of the CSV file to load (default is 'synthetic_data_jan_2024.csv').\n",
    "\n",
    "    Returns:\n",
    "        pd.DataFrame: A DataFrame containing the purchase data.\n",
    "    \"\"\"\n",
    "    # Define the path to the data folder relative to the notebook\n",
    "    notebook_dir = os.getcwd()  # Current working directory (notebook folder)\n",
    "    data_folder = os.path.join(notebook_dir, '..', 'data')  # Navigate to the data folder\n",
    "    file_path = os.path.join(data_folder, filename)\n",
    "\n",
    "    # Load the CSV into a DataFrame\n",
    "    df = pd.read_csv(file_path)\n",
    "\n",
    "    return df\n",
    "\n",
    "# Load purchase data\n",
    "df = load_purchase_data(filename='supermarket_purchases_data.csv')\n",
    "\n",
    "# Convert Date column to a datetime object\n",
    "df['Date'] = pd.to_datetime(df['Date'], format='%Y-%m-%d')\n",
    "\n",
    "# Visualize the first rows of the DataFrame\n",
    "df.head()"
   ]
  },
  {
   "cell_type": "markdown",
   "id": "276e1cdc-e8e0-45b1-b665-c9c2ac814e9f",
   "metadata": {},
   "source": [
    "## Daily Expenditures and Cumulative Daily Expenditures\n",
    "\n",
    "This section performs an analysis of the daily expenses throughout the year together with the cumulative annual expenses, i.e. how much money has been spent to date. To present these results, a line diagram is employed using the Plotly library. One of the lines represents the daily expenses and the other represents the cumulative annual expenses. The visualization has two distinct y-axes: the y-axis on the left shows the daily expenses and the y-axis on the right shows the cumulative annual expenses."
   ]
  },
  {
   "cell_type": "code",
   "execution_count": null,
   "id": "d46f6a01-ac67-479e-a9bc-a67bfee07374",
   "metadata": {
    "execution": {
     "iopub.execute_input": "2025-01-10T12:03:19.657421Z",
     "iopub.status.busy": "2025-01-10T12:03:19.657159Z",
     "iopub.status.idle": "2025-01-10T12:03:19.746618Z",
     "shell.execute_reply": "2025-01-10T12:03:19.745996Z"
    }
   },
   "outputs": [],
   "source": [
    "# Calculate total expenditures per day\n",
    "daily_expenditures = df.groupby('Date')['Total Cost'].sum()\n",
    "\n",
    "# Calculate cumulative daily expenditures\n",
    "cumulative_daily_expenditures = daily_expenditures.cumsum()\n",
    "\n",
    "# Create the figure\n",
    "fig = go.Figure()\n",
    "\n",
    "# Add daily expenditures trace\n",
    "fig.add_trace(go.Scatter(\n",
    "    x=daily_expenditures.index,\n",
    "    y=daily_expenditures.values,\n",
    "    mode='lines+markers',\n",
    "    name='Daily Expenditures',\n",
    "    line=dict(color='#FF9999'),\n",
    "    yaxis='y1'  # Assign this trace to the first y-axis\n",
    "))\n",
    "\n",
    "# Add cumulative daily expenditures trace\n",
    "fig.add_trace(go.Scatter(\n",
    "    x=cumulative_daily_expenditures.index,\n",
    "    y=cumulative_daily_expenditures.values,\n",
    "    mode='lines+markers',\n",
    "    name='Cumulative Daily Expenditures',\n",
    "    line=dict(color='#66B2FF'),\n",
    "    yaxis='y2'  # Assign this trace to the second y-axis\n",
    "))\n",
    "\n",
    "# Update layout with title and axis labels\n",
    "fig.update_layout(\n",
    "    title='Daily Expenditures and Cumulative Daily Expenditures',\n",
    "    xaxis_title='Date',\n",
    "    yaxis_title='Daily Expenditure',\n",
    "    yaxis2=dict(\n",
    "        title='Cumulative Expenditure',\n",
    "        overlaying='y',  # Overlays the second axis on the first axis\n",
    "        side='right'  # Places the second y-axis on the right\n",
    "    ),\n",
    "    xaxis_tickangle=-45,\n",
    "    showlegend=True,\n",
    "    legend_title=\"Expenditure Type\",\n",
    "    legend=dict(\n",
    "        orientation=\"h\",  # Horizontal legend\n",
    "        yanchor=\"bottom\",  # Position legend at the bottom\n",
    "        y=-1,  # Move the legend slightly below the plot\n",
    "        xanchor=\"center\",  # Center the legend horizontally\n",
    "        x=0.5  # Align legend to the center\n",
    "    ),\n",
    "    # Removing gridlines and background color\n",
    "    plot_bgcolor='white',  # White background for the plot\n",
    "    paper_bgcolor='white',  # White background for the paper\n",
    "    xaxis=dict(showgrid=False),  # No gridlines on x-axis\n",
    "    yaxis=dict(showgrid=False),  # No gridlines on y-axis\n",
    "    font=dict(\n",
    "        family=\"Poppins, sans-serif\",  # Set Poppins as the font family\n",
    "    )\n",
    ")\n",
    "\n",
    "# Show the plot\n",
    "fig.show()"
   ]
  },
  {
   "cell_type": "markdown",
   "id": "2e9f9946-16b8-4cec-9459-adedc4282d28",
   "metadata": {},
   "source": [
    "## Expenditure Breakdown by Category and Product\n",
    "\n",
    "In the purchase data set, each product belongs to a category. For example, salmon and tuna belong to the fish category. In this section, an analysis of spending by category and product is performed using a Sunburst chart. In this type of chart, each level of the hierarchy is presented as a concentric ring. In the first ring, the categories are shown, and in the second ring, the products. In this way, you can easily visualize the proportions in the data set in two different hierarchies: categories and products."
   ]
  },
  {
   "cell_type": "code",
   "execution_count": null,
   "id": "d99ec194-5e21-4543-a1a5-ff921e7f711f",
   "metadata": {
    "execution": {
     "iopub.execute_input": "2025-01-10T12:03:19.748828Z",
     "iopub.status.busy": "2025-01-10T12:03:19.748578Z",
     "iopub.status.idle": "2025-01-10T12:03:20.259205Z",
     "shell.execute_reply": "2025-01-10T12:03:20.258660Z"
    }
   },
   "outputs": [],
   "source": [
    "# Create the Sunburst chart\n",
    "fig = px.sunburst(\n",
    "    df,\n",
    "    path=['Category', 'Product'],  # Hierarchical structure\n",
    "    values='Total Cost',          # Values to visualize\n",
    "    title='Expenditure Breakdown by Category and Product',\n",
    ")\n",
    "\n",
    "# Customize layout\n",
    "fig.update_layout(\n",
    "    title_font=dict(size=16, family=\"Poppins, sans-serif\"),  \n",
    "    font=dict(family=\"Poppins, sans-serif\"), \n",
    "    paper_bgcolor='white',  # Set background color\n",
    "    plot_bgcolor='white',\n",
    "    width=800,  # Set width\n",
    "    height=600  # Set height\n",
    ")\n",
    "\n",
    "# Show the plot\n",
    "fig.show()"
   ]
  },
  {
   "cell_type": "markdown",
   "id": "f153b1c9-68e3-4db2-a234-4c46d6fcf779",
   "metadata": {},
   "source": [
    "## Expenditure Breakdown by Payment Method\n",
    "\n",
    "This section performs an analysis of the payment methods used. There are a total of three payment methods used by the user: digital wallet, cash, and card. To visualize the total expenditure with each of these payment methods, a pie chart is used."
   ]
  },
  {
   "cell_type": "code",
   "execution_count": null,
   "id": "5c84e5d1-a6f4-408c-b87b-5f452493ac73",
   "metadata": {
    "execution": {
     "iopub.execute_input": "2025-01-10T12:03:20.261288Z",
     "iopub.status.busy": "2025-01-10T12:03:20.261070Z",
     "iopub.status.idle": "2025-01-10T12:03:20.278473Z",
     "shell.execute_reply": "2025-01-10T12:03:20.277875Z"
    }
   },
   "outputs": [],
   "source": [
    "# Create Pie Chart\n",
    "fig = go.Figure(\n",
    "    data=[\n",
    "        go.Pie(\n",
    "            labels=df['Payment Method'],\n",
    "            values=df['Total Cost'],\n",
    "            textinfo='label+percent',  # Show labels and percentages\n",
    "            hoverinfo='label+value',  # Show label and value on hover\n",
    "            marker=dict(colors=['#FF9999', '#66B2FF', '#99FF99']),  # Custom colors\n",
    "        )\n",
    "    ]\n",
    ")\n",
    "\n",
    "# Customize layout\n",
    "fig.update_layout(\n",
    "    title=\"Expenditure Breakdown by Payment Method\",\n",
    "    title_font=dict(size=16, family=\"Poppins, sans-serif\"),\n",
    "    font=dict(family=\"Poppins, sans-serif\"),\n",
    "    paper_bgcolor='white',  # White background\n",
    "    showlegend=False,  # Show legend\n",
    "    width=500,  # Set width\n",
    "    height=500  # Set height\n",
    ")\n",
    "\n",
    "# Show plot\n",
    "fig.show()"
   ]
  },
  {
   "cell_type": "code",
   "execution_count": null,
   "id": "9172833d",
   "metadata": {
    "execution": {
     "iopub.execute_input": "2025-01-10T12:03:20.280653Z",
     "iopub.status.busy": "2025-01-10T12:03:20.280413Z",
     "iopub.status.idle": "2025-01-10T12:03:20.284023Z",
     "shell.execute_reply": "2025-01-10T12:03:20.283535Z"
    }
   },
   "outputs": [],
   "source": [
    "#imprime la hora de ejecución\n",
    "from datetime import datetime\n",
    "from IPython.display import display, Markdown\n",
    "\n",
    "t = datetime.now()\n",
    "display(Markdown(f'### hora de ejecución: {t}'))\n",
    "\n"
   ]
  }
 ],
 "metadata": {
  "kernelspec": {
   "display_name": "Python 3 (ipykernel)",
   "language": "python",
   "name": "python3"
  },
  "language_info": {
   "codemirror_mode": {
    "name": "ipython",
    "version": 3
   },
   "file_extension": ".py",
   "mimetype": "text/x-python",
   "name": "python",
   "nbconvert_exporter": "python",
   "pygments_lexer": "ipython3",
   "version": "3.12.4"
  }
 },
 "nbformat": 4,
 "nbformat_minor": 5
}
